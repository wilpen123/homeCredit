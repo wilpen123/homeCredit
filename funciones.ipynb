{
 "cells": [
  {
   "cell_type": "code",
   "execution_count": 1,
   "metadata": {},
   "outputs": [],
   "source": [
    "def delete_vars(df, thresh, exception):\n",
    "    \"\"\"\n",
    "    Delete variables from a Pandas DataFrame that have more than `thresh` percentage of the same value,\n",
    "    except for the `exception` variable.\n",
    "    \n",
    "    Parameters:\n",
    "    df (Pandas DataFrame): The input DataFrame.\n",
    "    thresh (float): The threshold percentage for identifying variables to be deleted.\n",
    "    exception (str): The variable to be excluded from deletion.\n",
    "    \n",
    "    Returns:\n",
    "    Pandas DataFrame: The modified DataFrame with variables deleted.\n",
    "    \"\"\"\n",
    "    \n",
    "    # Calculate the percentage of zeros in each column\n",
    "    zeros_percentage = (df == 0).mean()\n",
    "    \n",
    "    # Identify columns that have more than `thresh` percentage of zeros, except for `exception`\n",
    "    cols_to_delete = zeros_percentage[zeros_percentage > thresh].index.tolist()\n",
    "    if exception in cols_to_delete:\n",
    "        cols_to_delete.remove(exception)\n",
    "    \n",
    "    # Delete the identified columns from the DataFrame\n",
    "    df = df.drop(cols_to_delete, axis=1)\n",
    "    \n",
    "    return df"
   ]
  },
  {
   "cell_type": "code",
   "execution_count": 2,
   "metadata": {},
   "outputs": [],
   "source": [
    "def replace_outliers_with_nans(dataframe, excluded_columns=None):\n",
    "    if excluded_columns is None:\n",
    "        excluded_columns = []\n",
    "\n",
    "    for column in dataframe.columns:\n",
    "        if column not in excluded_columns:\n",
    "            unique_values = dataframe[column].unique()\n",
    "            if not (set(unique_values) <= {0, 1}):\n",
    "                # Calculate the IQR for the column\n",
    "                Q1 = dataframe[column].quantile(0.25)\n",
    "                Q3 = dataframe[column].quantile(0.75)\n",
    "                IQR = Q3 - Q1\n",
    "\n",
    "                # Define the lower and upper bounds for outliers\n",
    "                lower_bound = Q1 - 1.5 * IQR\n",
    "                upper_bound = Q3 + 1.5 * IQR\n",
    "\n",
    "                # Replace outliers with NaNs\n",
    "                dataframe[column] = np.where(\n",
    "                    (dataframe[column] < lower_bound) | (dataframe[column] > upper_bound),\n",
    "                    np.nan,\n",
    "                    dataframe[column]\n",
    "                )\n",
    "\n",
    "    return dataframe\n"
   ]
  },
  {
   "cell_type": "code",
   "execution_count": 3,
   "metadata": {},
   "outputs": [],
   "source": [
    "def get_nan_percentage(df):\n",
    "    \"\"\"\n",
    "    This function takes a pandas DataFrame as input and returns the percentage of NaN values in each column.\n",
    "    \"\"\"\n",
    "    total_cells = df.size\n",
    "    nan_cells = df.isnull().sum().sum()\n",
    "    nan_percentage = (nan_cells / total_cells) * 100\n",
    "    return nan_percentage\n",
    "    "
   ]
  },
  {
   "cell_type": "code",
   "execution_count": 4,
   "metadata": {},
   "outputs": [],
   "source": [
    "def get_dummy_columns(df):\n",
    "    object_columns = df.select_dtypes(include=['object']).columns\n",
    "    for col in object_columns:\n",
    "        dummies = pd.get_dummies(df[col], prefix=col, drop_first=True)\n",
    "        df = pd.concat([df, dummies], axis=1)\n",
    "        df.drop(col, axis=1, inplace=True)\n",
    "    return df"
   ]
  },
  {
   "cell_type": "code",
   "execution_count": 5,
   "metadata": {},
   "outputs": [],
   "source": [
    "def porcentaje_valores_nulos(dataframe):\n",
    "    # Calcular el número total de filas en el DataFrame\n",
    "    total_filas = len(dataframe)\n",
    "\n",
    "    # Crear un diccionario vacío para almacenar los resultados\n",
    "    resultado = {}\n",
    "\n",
    "    # Iterar sobre las columnas del DataFrame\n",
    "    for columna in dataframe.columns:\n",
    "        # Contar el número de valores nulos en cada columna\n",
    "        valores_nulos = dataframe[columna].isna().sum()\n",
    "\n",
    "        # Calcular el porcentaje de valores nulos\n",
    "        porcentaje_nulos = (valores_nulos / total_filas) * 100\n",
    "\n",
    "        # Agregar el resultado al diccionario\n",
    "        resultado[columna] = porcentaje_nulos\n",
    "\n",
    "    return resultado\n"
   ]
  },
  {
   "cell_type": "code",
   "execution_count": 6,
   "metadata": {},
   "outputs": [],
   "source": [
    "def eliminar_columnas_constantes(dataframe):\n",
    "    columnas_constantes = []\n",
    "    \n",
    "    for columna in dataframe.columns:\n",
    "        if dataframe[columna].nunique() == 1:\n",
    "            columnas_constantes.append(columna)\n",
    "            \n",
    "    return dataframe.drop(columnas_constantes, axis=1)"
   ]
  },
  {
   "cell_type": "code",
   "execution_count": 7,
   "metadata": {},
   "outputs": [],
   "source": [
    "def transformar_columnas_numericas(dataframe, threshold=0.1):\n",
    "    columnas_transformadas = []\n",
    "    \n",
    "    for columna in dataframe.columns:\n",
    "        zero_count = (dataframe[columna] == 0).sum()\n",
    "        total_count = len(dataframe[columna])\n",
    "        zero_percentage = zero_count / total_count\n",
    "\n",
    "        if zero_percentage >= threshold:\n",
    "            if dataframe[columna].lt(0).any():  # Si hay valores negativos\n",
    "                dataframe[f'{columna}_neg'] = (dataframe[columna] < 0).astype(int)\n",
    "                dataframe[f'{columna}_cero'] = (dataframe[columna] == 0).astype(int)\n",
    "                dataframe[f'{columna}_pos'] = (dataframe[columna] > 0).astype(int)\n",
    "                columnas_transformadas.append(columna)\n",
    "            else:  # Si solo hay valores positivos y ceros\n",
    "                dataframe[columna] = (dataframe[columna] > 0).astype(int)\n",
    "\n",
    "    # Eliminar las columnas originales transformadas en tres columnas dummy\n",
    "    dataframe = dataframe.drop(columnas_transformadas, axis=1)\n",
    "    return dataframe"
   ]
  },
  {
   "cell_type": "code",
   "execution_count": 8,
   "metadata": {},
   "outputs": [],
   "source": [
    "def eliminar_variables_correlacionadas(dataframe, threshold=0.95):\n",
    "    corr_matrix = dataframe.corr().abs()\n",
    "    upper_tri = corr_matrix.where(np.triu(np.ones(corr_matrix.shape), k=1).astype(np.bool))\n",
    "    columnas_eliminar = [columna for columna in upper_tri.columns if any(upper_tri[columna] > threshold)]\n",
    "\n",
    "    return dataframe.drop(columnas_eliminar, axis=1)"
   ]
  },
  {
   "cell_type": "code",
   "execution_count": 9,
   "metadata": {},
   "outputs": [],
   "source": [
    "def graficar_histogramas(dataframe):\n",
    "    # Filtrar las columnas numéricas\n",
    "    columnas_numericas = dataframe.select_dtypes(include=[np.number]).columns\n",
    "    \n",
    "    # Calcular el número de filas necesarias en función de las columnas numéricas\n",
    "    num_filas = (len(columnas_numericas) + 3) // 4\n",
    "\n",
    "    # Crear una figura con varios subplots (4 x n)\n",
    "    fig, axes = plt.subplots(num_filas, 4, figsize=(20, 5 * num_filas))\n",
    "    axes = axes.flatten()\n",
    "\n",
    "    # Iterar sobre las columnas numéricas y graficar un histograma para cada una\n",
    "    for i, columna in enumerate(columnas_numericas):\n",
    "        sns.histplot(data=dataframe, x=columna, kde=True, ax=axes[i])\n",
    "        axes[i].set_title(columna)\n",
    "\n",
    "    # Eliminar los subplots vacíos\n",
    "    for i in range(len(columnas_numericas), len(axes)):\n",
    "        fig.delaxes(axes[i])\n",
    "\n",
    "    # Mostrar la figura con los histogramas\n",
    "    plt.show()"
   ]
  },
  {
   "cell_type": "code",
   "execution_count": 11,
   "metadata": {},
   "outputs": [],
   "source": [
    "def eliminar_columnas_quasiconstantes(dataframe, threshold=0.98):\n",
    "    columnas_quasiconstantes = []\n",
    "    \n",
    "    for columna in dataframe.columns:\n",
    "        dominant_value_freq = dataframe[columna].value_counts(normalize=True).iloc[0]\n",
    "        if dominant_value_freq >= threshold:\n",
    "            columnas_quasiconstantes.append(columna)\n",
    "            \n",
    "    return dataframe.drop(columnas_quasiconstantes, axis=1)\n",
    "\n"
   ]
  },
  {
   "cell_type": "code",
   "execution_count": null,
   "metadata": {},
   "outputs": [],
   "source": []
  }
 ],
 "metadata": {
  "kernelspec": {
   "display_name": "Python 3.10.5 64-bit",
   "language": "python",
   "name": "python3"
  },
  "language_info": {
   "codemirror_mode": {
    "name": "ipython",
    "version": 3
   },
   "file_extension": ".py",
   "mimetype": "text/x-python",
   "name": "python",
   "nbconvert_exporter": "python",
   "pygments_lexer": "ipython3",
   "version": "3.10.5"
  },
  "orig_nbformat": 4,
  "vscode": {
   "interpreter": {
    "hash": "aee8b7b246df8f9039afb4144a1f6fd8d2ca17a180786b69acc140d282b71a49"
   }
  }
 },
 "nbformat": 4,
 "nbformat_minor": 2
}
